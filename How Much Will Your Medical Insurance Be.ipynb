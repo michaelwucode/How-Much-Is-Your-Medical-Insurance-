{
 "cells": [
  {
   "cell_type": "markdown",
   "id": "f35aa255",
   "metadata": {},
   "source": [
    "Factorial Design: Effects of Age, Smoking, BMI On Medical Costs\n",
    "\n",
    "Author: Michael Wu"
   ]
  },
  {
   "cell_type": "code",
   "execution_count": 1,
   "id": "22ddb388",
   "metadata": {},
   "outputs": [
    {
     "name": "stderr",
     "output_type": "stream",
     "text": [
      "── \u001b[1mAttaching core tidyverse packages\u001b[22m ──────────────────────── tidyverse 2.0.0 ──\n",
      "\u001b[32m✔\u001b[39m \u001b[34mdplyr    \u001b[39m 1.1.2     \u001b[32m✔\u001b[39m \u001b[34mpurrr    \u001b[39m 1.0.1\n",
      "\u001b[32m✔\u001b[39m \u001b[34mforcats  \u001b[39m 1.0.0     \u001b[32m✔\u001b[39m \u001b[34mstringr  \u001b[39m 1.5.0\n",
      "\u001b[32m✔\u001b[39m \u001b[34mggplot2  \u001b[39m 3.4.2     \u001b[32m✔\u001b[39m \u001b[34mtibble   \u001b[39m 3.2.1\n",
      "\u001b[32m✔\u001b[39m \u001b[34mlubridate\u001b[39m 1.9.2     \u001b[32m✔\u001b[39m \u001b[34mtidyr    \u001b[39m 1.3.0\n",
      "── \u001b[1mConflicts\u001b[22m ────────────────────────────────────────── tidyverse_conflicts() ──\n",
      "\u001b[31m✖\u001b[39m \u001b[34mdplyr\u001b[39m::\u001b[32mfilter()\u001b[39m masks \u001b[34mstats\u001b[39m::filter()\n",
      "\u001b[31m✖\u001b[39m \u001b[34mdplyr\u001b[39m::\u001b[32mlag()\u001b[39m    masks \u001b[34mstats\u001b[39m::lag()\n",
      "\u001b[36mℹ\u001b[39m Use the conflicted package (\u001b[3m\u001b[34m<http://conflicted.r-lib.org/>\u001b[39m\u001b[23m) to force all conflicts to become errors\n"
     ]
    }
   ],
   "source": [
    "library(readr)\n",
    "library(tidyverse)\n",
    "library(dplyr)\n",
    "library(ggplot2)"
   ]
  },
  {
   "cell_type": "markdown",
   "id": "5fedf3f7",
   "metadata": {},
   "source": [
    "## Introduction\n",
    "\n",
    "In this study, we are interested in how an individual's characteristics such as age, smoking status, BMI, and the variables' interactions can affect their medical expenses. Exploring the relationships between these variables can help insurance companies to access risks and estimate expected medical costs of individuals based on their characteristics, and as a result, more accurately assign prices for their insurance plans. In addition, our findings can provide insights on how an individual's behaviours, such as whether they smoke or not, their eating habits, often indicated by their body mass index, and/or interaction between their eating habits and smoking status, can contribute to more or fewer visits to the hospital and possibly higher or lower medical bills. Our hypothesis is that people who smoke, people who are older, and people whose BMI is greater than 25 (overweight) will have higher medical costs on average. We also expect there will be interaction effects between all three of the variables, specifically the two-way interactions.\n",
    "\n",
    "## Materials and Methods\n",
    "\n",
    "### Data\n",
    "\n",
    "The data, called \"Medical Cost Personal Dataset\" is acquired from the website \"kaggle.com\"[1]. It has $1338$ observations, where each observation represents an individual, and contains that person's sex, age, BMI, smoking status, number of children, region, and medical costs billed by health insurance.\n",
    "\n",
    "Key Variables:\n",
    "\n",
    "- Charges (Double): medical costs billed.\n",
    "- age (Factor): coded into factors of 0 and 1, where 0 indicates age $<40$, and 1 indicates age $\\geq 40$.\n",
    "- BMI (Factor): coded into factors of 0 and 1, where 0 indicates BMI $<25$, and 1 indicates BMI $\\geq 25$. BMI $\\geq 25$ is considered overweight.\n",
    "- smoking (Factor): coded into factors of 0 and 1, where 0 indicates that the person does not smoke, and 1 indicates that the person smokes.\n",
    "\n",
    "### Experimental Design\n",
    "\n",
    "In this study, we will use the full factorial design with replications to study the effects of the variables (each with two levels) age, BMI, and smoking status on an individual's medical costs. Interactions between the variables will also be studied. Specifically, the interaction between age and BMI, age and smoking status, BMI and smoking status, and lastly the three variables combined. We have decided to use the full factorial design because we are interested in estimating the main effects of multiple(3) independent variables as well as the potential interaction effects between them. In addition, we have enough data where we can observe all possible combinations of the levels of independent variables, and also have the capacity to conduct multiple replications with each combination of experimental conditions. Because we only have three independent variables of interest and thus a small number of combinations, we have decided to do ten replications for each combination, so our findings can be more precise and reliable. To accomplish the randomness of \"run order\", we grouped the data by \"age\", \"BMI\", and \"Smoking Status\", then randomly selected ten observations from each unique grouping. The full factorial design will help us determine the main effects of age, BMI, smoking, and the interaction effects between them, on an individual's medical costs, which aligns with the objectives of our study.\n",
    "\n",
    "\n",
    "### Statistical Methods\n",
    "\n",
    "### Interaction Plot\n",
    "\n",
    "\n",
    "Our model contains three variables, so the design is a $2^3$ factorial design. The possible interactions are three two-way interactions and one three-way interactions. Interaction plots will let us see the presence of interactions between two variables. Specifically, if the two lines are parallel, there's no interactions, but if the lines are non-parallel or they cross, there is possible interactions. The interaction plots will give us an idea of whether there are interaction effects before doing regression.\n",
    "\n",
    "### Linear Regression\n",
    "\n",
    "\n",
    "Linear regression will be used to estimate the main effects and interaction effects of our independent variables: age, BMI, and smoking status on our response, medical cost. The results from linear regression will provide us with coefficient estimates, standard error estimates, as well as the p-value associated with each independent variables(s). \n",
    "\n",
    "### Confidence Interval\n",
    "\n",
    "\n",
    "$95\\%$ Confidence intervals will be estimated for the true values of effects for both main and interactions. We do not know what the true values of the effects are, but the confidence intervals give us an idea of where those values may fall. Given our samples, the lower bound and upperbound of the intervals, we will be $95\\%$ confident that the true values of the effects will fall within the intervals.\n",
    "\n",
    "### Hypothesis Test\n",
    "\n",
    "\n",
    "We will be using the student's t-test to see if there is a significant relationship between our independent variables and the response. A p-value of $0.05$ will be used to assess the variables' significance.\n",
    "\n",
    "\n",
    "\n",
    "## Results & Discussion\n",
    "\n",
    "The linear model for our $2^3$ full factorial design is:\n",
    "\n",
    "$$Y_i = \\beta_0 + \\beta_1X_{i1} + \\beta_2X_{i2} + \\beta_3X_{i3} + \\beta_4X_{i1} X_{i2} + \\beta_5X_{i1}X_{i3} + \\beta_6 X_{i2}X_{i3} + \\beta_7 X_{i1}X_{i2}X_{i3} + \\epsilon$$\n",
    "where \n",
    "\n",
    "- $Y_i$ is the medical expenses charged for individual $i$.\n",
    "- $X_{i1}$ is a dummy variable indicating whether individual $i$ is over 40 years of age.\n",
    "- $X_{i2}$ is a dummy variable indicating whether individual $i$ is a smoker.\n",
    "- $X_{i3}$ is a dummy variable indicating whether individual $i$ has a BMI of over 25.\n",
    "- $X_{i1} X_{i2}$ is the interaction between age and smoking, $X_{i2}X_{i3}$ is the interaction between smoking and BMI, etc.\n",
    "- The $\\beta$'s represent the estimated effects."
   ]
  },
  {
   "cell_type": "code",
   "execution_count": 2,
   "id": "0d5be3ea",
   "metadata": {},
   "outputs": [
    {
     "name": "stderr",
     "output_type": "stream",
     "text": [
      "\u001b[1mRows: \u001b[22m\u001b[34m1338\u001b[39m \u001b[1mColumns: \u001b[22m\u001b[34m7\u001b[39m\n",
      "\u001b[36m──\u001b[39m \u001b[1mColumn specification\u001b[22m \u001b[36m────────────────────────────────────────────────────────\u001b[39m\n",
      "\u001b[1mDelimiter:\u001b[22m \",\"\n",
      "\u001b[31mchr\u001b[39m (3): sex, smoker, region\n",
      "\u001b[32mdbl\u001b[39m (4): age, bmi, children, charges\n",
      "\n",
      "\u001b[36mℹ\u001b[39m Use `spec()` to retrieve the full column specification for this data.\n",
      "\u001b[36mℹ\u001b[39m Specify the column types or set `show_col_types = FALSE` to quiet this message.\n"
     ]
    }
   ],
   "source": [
    "set.seed(2)\n",
    "\n",
    "insurance <- read_csv(\"~/sta305/final/insurance.csv\")\n",
    "insurance$sex <- as.factor(insurance$sex)\n",
    "insurance$smoker <- as.factor(insurance$smoker)\n",
    "\n",
    "insurance <- insurance %>%\n",
    "  mutate(bmi_over_25 = as.factor(case_when(bmi >= 25 ~ \"over\",\n",
    "                                 bmi < 25 ~ \"under\")),\n",
    "         age_over_40 = as.factor(case_when(age >= 40 ~ \"over\",\n",
    "                                 age < 40 ~ \"under\"))) %>%\n",
    "  dplyr::select(charges, age_over_40, smoker, bmi_over_25)\n",
    "\n",
    "data <- insurance %>%\n",
    "  group_by(age_over_40, smoker, bmi_over_25) %>%\n",
    "  slice_sample(n = 10)\n",
    "\n",
    "data$age_over_40 <- factor(data$age_over_40, levels = c(\"under\", \"over\"))\n",
    "data$bmi_over_25 <- factor(data$bmi_over_25, levels = c(\"under\", \"over\"))\n",
    "data$smoker <- factor(data$smoker, levels = c(\"no\", \"yes\"))"
   ]
  },
  {
   "cell_type": "markdown",
   "id": "748dba15",
   "metadata": {},
   "source": [
    "### Interaction Plots"
   ]
  },
  {
   "cell_type": "code",
   "execution_count": 3,
   "id": "1e451daa",
   "metadata": {},
   "outputs": [
    {
     "data": {
      "image/png": "[encoded data removed]",
      "text/plain": [
       "Plot with title “Interaction between Smoking and BMI”"
      ]
     },
     "metadata": {
      "image/png": {
       "height": 420,
       "width": 420
      }
     },
     "output_type": "display_data"
    }
   ],
   "source": [
    "par(mfrow = c(2,2))\n",
    "interaction.plot(data$age_over_40, data$smoker, data$charges, type = \"l\",\n",
    "                 xlab = \"Age Over 40\",trace.label = \"Smoker\",\n",
    "                 ylab = \"Charges\", main = \"Interaction between Age and Smoking\")\n",
    "interaction.plot(data$age_over_40, data$bmi_over_25, data$charges, type = \"l\",\n",
    "                 xlab = \"Age Over 40\",trace.label = \"BMI\",\n",
    "                 ylab = \"Charges\", main = \"Interaction between Age and BMI\")\n",
    "interaction.plot(data$smoker, data$bmi_over_25, data$charges, type = \"l\",\n",
    "                 xlab = \"Smoking\",trace.label = \"BMI\",\n",
    "                 ylab = \"Charges\", main = \"Interaction between Smoking and BMI\")"
   ]
  },
  {
   "cell_type": "markdown",
   "id": "7d9daf12",
   "metadata": {},
   "source": [
    "The two lines in the first plot looks about parallel so there does not appear to be any interactions between age and smoking. Younger people and older people have similar increases in medical expenses if they smoke. Looking at the second plot, the lines are not exactly parallel so there may be interaction effects between age and BMI. Looking at the third plot, the lines are not parallel so there is a strong possibility that interactions between age and BMI exist."
   ]
  },
  {
   "cell_type": "code",
   "execution_count": 4,
   "id": "4a7381b4",
   "metadata": {},
   "outputs": [
    {
     "data": {
      "text/html": [
       "<table class=\"dataframe\">\n",
       "<caption>A matrix: 8 × 4 of type dbl</caption>\n",
       "<thead>\n",
       "\t<tr><th></th><th scope=col>Estimate</th><th scope=col>Std. Error</th><th scope=col>t value</th><th scope=col>Pr(&gt;|t|)</th></tr>\n",
       "</thead>\n",
       "<tbody>\n",
       "\t<tr><th scope=row>(Intercept)</th><td> 3178.72</td><td>2413.11</td><td> 1.32</td><td>0.19</td></tr>\n",
       "\t<tr><th scope=row>age_over_40over</th><td> 7093.12</td><td>3412.66</td><td> 2.08</td><td>0.04</td></tr>\n",
       "\t<tr><th scope=row>smokeryes</th><td>15940.44</td><td>3412.66</td><td> 4.67</td><td>0.00</td></tr>\n",
       "\t<tr><th scope=row>bmi_over_25over</th><td> 1560.69</td><td>3412.66</td><td> 0.46</td><td>0.65</td></tr>\n",
       "\t<tr><th scope=row>age_over_40over:smokeryes</th><td>-2293.40</td><td>4826.23</td><td>-0.48</td><td>0.64</td></tr>\n",
       "\t<tr><th scope=row>age_over_40over:bmi_over_25over</th><td> 1914.98</td><td>4826.23</td><td> 0.40</td><td>0.69</td></tr>\n",
       "\t<tr><th scope=row>smokeryes:bmi_over_25over</th><td>11268.93</td><td>4826.23</td><td> 2.33</td><td>0.02</td></tr>\n",
       "\t<tr><th scope=row>age_over_40over:smokeryes:bmi_over_25over</th><td> 6329.92</td><td>6825.31</td><td> 0.93</td><td>0.36</td></tr>\n",
       "</tbody>\n",
       "</table>\n"
      ],
      "text/latex": [
       "A matrix: 8 × 4 of type dbl\n",
       "\\begin{tabular}{r|llll}\n",
       "  & Estimate & Std. Error & t value & Pr(>\\textbar{}t\\textbar{})\\\\\n",
       "\\hline\n",
       "\t(Intercept) &  3178.72 & 2413.11 &  1.32 & 0.19\\\\\n",
       "\tage\\_over\\_40over &  7093.12 & 3412.66 &  2.08 & 0.04\\\\\n",
       "\tsmokeryes & 15940.44 & 3412.66 &  4.67 & 0.00\\\\\n",
       "\tbmi\\_over\\_25over &  1560.69 & 3412.66 &  0.46 & 0.65\\\\\n",
       "\tage\\_over\\_40over:smokeryes & -2293.40 & 4826.23 & -0.48 & 0.64\\\\\n",
       "\tage\\_over\\_40over:bmi\\_over\\_25over &  1914.98 & 4826.23 &  0.40 & 0.69\\\\\n",
       "\tsmokeryes:bmi\\_over\\_25over & 11268.93 & 4826.23 &  2.33 & 0.02\\\\\n",
       "\tage\\_over\\_40over:smokeryes:bmi\\_over\\_25over &  6329.92 & 6825.31 &  0.93 & 0.36\\\\\n",
       "\\end{tabular}\n"
      ],
      "text/markdown": [
       "\n",
       "A matrix: 8 × 4 of type dbl\n",
       "\n",
       "| <!--/--> | Estimate | Std. Error | t value | Pr(&gt;|t|) |\n",
       "|---|---|---|---|---|\n",
       "| (Intercept) |  3178.72 | 2413.11 |  1.32 | 0.19 |\n",
       "| age_over_40over |  7093.12 | 3412.66 |  2.08 | 0.04 |\n",
       "| smokeryes | 15940.44 | 3412.66 |  4.67 | 0.00 |\n",
       "| bmi_over_25over |  1560.69 | 3412.66 |  0.46 | 0.65 |\n",
       "| age_over_40over:smokeryes | -2293.40 | 4826.23 | -0.48 | 0.64 |\n",
       "| age_over_40over:bmi_over_25over |  1914.98 | 4826.23 |  0.40 | 0.69 |\n",
       "| smokeryes:bmi_over_25over | 11268.93 | 4826.23 |  2.33 | 0.02 |\n",
       "| age_over_40over:smokeryes:bmi_over_25over |  6329.92 | 6825.31 |  0.93 | 0.36 |\n",
       "\n"
      ],
      "text/plain": [
       "                                          Estimate Std. Error t value Pr(>|t|)\n",
       "(Intercept)                                3178.72 2413.11     1.32   0.19    \n",
       "age_over_40over                            7093.12 3412.66     2.08   0.04    \n",
       "smokeryes                                 15940.44 3412.66     4.67   0.00    \n",
       "bmi_over_25over                            1560.69 3412.66     0.46   0.65    \n",
       "age_over_40over:smokeryes                 -2293.40 4826.23    -0.48   0.64    \n",
       "age_over_40over:bmi_over_25over            1914.98 4826.23     0.40   0.69    \n",
       "smokeryes:bmi_over_25over                 11268.93 4826.23     2.33   0.02    \n",
       "age_over_40over:smokeryes:bmi_over_25over  6329.92 6825.31     0.93   0.36    "
      ]
     },
     "metadata": {},
     "output_type": "display_data"
    },
    {
     "data": {
      "text/html": [
       "<table class=\"dataframe\">\n",
       "<caption>A matrix: 8 × 2 of type dbl</caption>\n",
       "<thead>\n",
       "\t<tr><th></th><th scope=col>2.5 %</th><th scope=col>97.5 %</th></tr>\n",
       "</thead>\n",
       "<tbody>\n",
       "\t<tr><th scope=row>(Intercept)</th><td> -1631.7348</td><td> 7989.169</td></tr>\n",
       "\t<tr><th scope=row>age_over_40over</th><td>   290.1174</td><td>13896.131</td></tr>\n",
       "\t<tr><th scope=row>smokeryes</th><td>  9137.4330</td><td>22743.446</td></tr>\n",
       "\t<tr><th scope=row>bmi_over_25over</th><td> -5242.3196</td><td> 8363.694</td></tr>\n",
       "\t<tr><th scope=row>age_over_40over:smokeryes</th><td>-11914.3015</td><td> 7327.507</td></tr>\n",
       "\t<tr><th scope=row>age_over_40over:bmi_over_25over</th><td> -7705.9276</td><td>11535.881</td></tr>\n",
       "\t<tr><th scope=row>smokeryes:bmi_over_25over</th><td>  1648.0230</td><td>20889.831</td></tr>\n",
       "\t<tr><th scope=row>age_over_40over:smokeryes:bmi_over_25over</th><td> -7276.0965</td><td>19935.930</td></tr>\n",
       "</tbody>\n",
       "</table>\n"
      ],
      "text/latex": [
       "A matrix: 8 × 2 of type dbl\n",
       "\\begin{tabular}{r|ll}\n",
       "  & 2.5 \\% & 97.5 \\%\\\\\n",
       "\\hline\n",
       "\t(Intercept) &  -1631.7348 &  7989.169\\\\\n",
       "\tage\\_over\\_40over &    290.1174 & 13896.131\\\\\n",
       "\tsmokeryes &   9137.4330 & 22743.446\\\\\n",
       "\tbmi\\_over\\_25over &  -5242.3196 &  8363.694\\\\\n",
       "\tage\\_over\\_40over:smokeryes & -11914.3015 &  7327.507\\\\\n",
       "\tage\\_over\\_40over:bmi\\_over\\_25over &  -7705.9276 & 11535.881\\\\\n",
       "\tsmokeryes:bmi\\_over\\_25over &   1648.0230 & 20889.831\\\\\n",
       "\tage\\_over\\_40over:smokeryes:bmi\\_over\\_25over &  -7276.0965 & 19935.930\\\\\n",
       "\\end{tabular}\n"
      ],
      "text/markdown": [
       "\n",
       "A matrix: 8 × 2 of type dbl\n",
       "\n",
       "| <!--/--> | 2.5 % | 97.5 % |\n",
       "|---|---|---|\n",
       "| (Intercept) |  -1631.7348 |  7989.169 |\n",
       "| age_over_40over |    290.1174 | 13896.131 |\n",
       "| smokeryes |   9137.4330 | 22743.446 |\n",
       "| bmi_over_25over |  -5242.3196 |  8363.694 |\n",
       "| age_over_40over:smokeryes | -11914.3015 |  7327.507 |\n",
       "| age_over_40over:bmi_over_25over |  -7705.9276 | 11535.881 |\n",
       "| smokeryes:bmi_over_25over |   1648.0230 | 20889.831 |\n",
       "| age_over_40over:smokeryes:bmi_over_25over |  -7276.0965 | 19935.930 |\n",
       "\n"
      ],
      "text/plain": [
       "                                          2.5 %       97.5 %   \n",
       "(Intercept)                                -1631.7348  7989.169\n",
       "age_over_40over                              290.1174 13896.131\n",
       "smokeryes                                   9137.4330 22743.446\n",
       "bmi_over_25over                            -5242.3196  8363.694\n",
       "age_over_40over:smokeryes                 -11914.3015  7327.507\n",
       "age_over_40over:bmi_over_25over            -7705.9276 11535.881\n",
       "smokeryes:bmi_over_25over                   1648.0230 20889.831\n",
       "age_over_40over:smokeryes:bmi_over_25over  -7276.0965 19935.930"
      ]
     },
     "metadata": {},
     "output_type": "display_data"
    }
   ],
   "source": [
    "\n",
    "mod <- lm(charges ~ age_over_40*smoker*bmi_over_25, data = data)\n",
    "round(summary(mod)$coefficients,2)\n",
    "\n",
    "confint(mod)\n"
   ]
  },
  {
   "cell_type": "markdown",
   "id": "24164a2e",
   "metadata": {},
   "source": [
    "### Summary, Main & Interaction Effects\n",
    "\n",
    "|      Variable     | Estimate | T Statistic | SD Error  |   P value    |\n",
    "| ----------------- | -------- | ----------- | --------- | ------------ |\n",
    "|      Intercept    |   3179   |   1.317     |   2413    |   0.1919     |\n",
    "|        Age40      |   7093   |   2.078     |   3413    |   0.0412 *   |\n",
    "|       Smoking     |   15940  |   4.671     |   3413    | 1.36e-05 *** |\n",
    "|        BMI25      |   1561   |   0.457     |   3413    |   0.6488     | \n",
    "|    Age40:Smoking  |  -2293   |  -0.475     |   4826    |   0.6361     | \n",
    "|     Age40:BMI25   |   1915   |   0.397     |   4826    |   0.6927     | \n",
    "|    Smoking:BMI25  |   11269  |   2.335     |   4826    |   0.0223 *   | \n",
    "| Age40:Smoking:BMI |   6330   |   0.926     |   6825    |   0.3568     | \n",
    "\n",
    "\n",
    "We see from the table that if an individual is over 40 years of age, their medical expenses increase by approximately $\\$7000$. If an individual smokes, their medical expenses increases by about $\\$15940$. The two main effects are significant. T-test and the associated p-value show that BMI is not significant. However, the interaction effect between smoking and BMI is. To interpret, individuals with BMI over $25$ sees dramatic increases of $\\$11269$ in their medical bills if they smoke, vs individuals with BMI under $25$ who also smokes. The interaction effect is clearly depicted in the third interaction plot above. The other interaction effects are not significant. However, this may be due to a small sample size.\n",
    "\n",
    "### Confidence Intervals\n",
    "\n",
    "|      Variable     |    2.5%    |    97.5%   |\n",
    "| ----------------- | ---------- | ---------- |\n",
    "|      Intercept    | -1631.74   |  7989.16   |\n",
    "|        Age40      |  290.12    |  13896.13  |\n",
    "|       Smoking     |  9137.43   |  22743.44  |\n",
    "|        BMI25      | -5242.31   |  8363.69   |\n",
    "|    Age40:Smoking  | -11914.30  |  7327.50   |\n",
    "|     Age40:BMI25   | -7705.92   |  11535.88  | \n",
    "|    Smoking:BMI25  |  1648.02   |  20889.83  | \n",
    "| Age40:Smoking:BMI | -7276.09   |  19935.93  |\n",
    "\n",
    "\n",
    "Above is the confidence interval for all of our estimated coefficients. We see that all of the variables that were not significant from the summary table are variables whose upper and lower bounds do not have the same \"$+-$\" signs. The relatively wide confidence intervals indicate that our sample sizes may be small or that there's simply high variability among estimates.\n",
    "\n",
    "\n",
    "## Conclusion\n",
    "\n",
    "Using a $2^3$ full factorial design with $10$ replications, we explored the effects of age, smoking, BMI, and their interactions on an individual's medical expenses. The design is chosen because of our interest in not only the main effects but also the interaction effects. Furthermore, we have enough resources(data) to conduct a design like this. Interaction plots show that there may be interactions between age and BMI and strong interactions between BMI and smoking. Hypothesis tests (t-test) indicate that age, smoking, and the interactions between smoking and BMI have significant effects on medical costs, at the $\\alpha = 0.05$ level. Older people ($age \\geq 40$) on average, need to spend $\\$7000$ more than younger people, and people who smokes need to spend $\\$16000$ more than people who don't on medical bills. Lastly, there is interaction effect between BMI and smoking, at around $\\$11000$. Overall, the full factorial design helped achieve our objectives. Higher number of replications may have increased the preciseness and reliability of our findings.\n",
    "\n",
    "\n",
    "## References\n",
    "\n",
    "1. Kaggle.com. *Medical Cost Personal Datasets*. [https://www.kaggle.com/datasets/mirichoi0218/insurance](https://www.kaggle.com/datasets/mirichoi0218/insurance). (Last Accessed: April 3, 2022) \n"
   ]
  },
  {
   "cell_type": "code",
   "execution_count": null,
   "id": "b18ad008",
   "metadata": {},
   "outputs": [],
   "source": []
  }
 ],
 "metadata": {
  "kernelspec": {
   "display_name": "R",
   "language": "R",
   "name": "ir"
  },
  "language_info": {
   "codemirror_mode": "r",
   "file_extension": ".r",
   "mimetype": "text/x-r-source",
   "name": "R",
   "pygments_lexer": "r",
   "version": "4.0.5"
  }
 },
 "nbformat": 4,
 "nbformat_minor": 5
}
